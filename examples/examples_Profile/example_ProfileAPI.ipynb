{
 "cells": [
  {
   "cell_type": "code",
   "execution_count": 18,
   "id": "9fdd785f",
   "metadata": {},
   "outputs": [],
   "source": [
    "from requests import get, post"
   ]
  },
  {
   "cell_type": "code",
   "execution_count": 10,
   "id": "82965241",
   "metadata": {},
   "outputs": [],
   "source": [
    "url = 'http://0.0.0.0:8004'"
   ]
  },
  {
   "cell_type": "code",
   "execution_count": null,
   "id": "74c8e990",
   "metadata": {},
   "outputs": [],
   "source": [
    "result_update_data = get(url + '/profile/update_data')\n",
    "result_update_data.json()"
   ]
  },
  {
   "cell_type": "code",
   "execution_count": null,
   "id": "d9ce6aa5",
   "metadata": {},
   "outputs": [],
   "source": [
    "param = {\n",
    "    'donor_id': ['383902', '439443']  # includes all by default\n",
    "}\n",
    "result_get_demographics = post(url + '/profile/get_demographics', json = param)\n",
    "result_get_demographics.json()"
   ]
  },
  {
   "cell_type": "code",
   "execution_count": null,
   "id": "247aa906",
   "metadata": {},
   "outputs": [],
   "source": [
    "param = {\n",
    "    'donor_id': ['383902', '439443']  # includes all by default\n",
    "}\n",
    "result_get_collection_summary = post(url + '/profile/get_collection_summary', json = param)\n",
    "result_get_collection_summary.json()"
   ]
  },
  {
   "cell_type": "code",
   "execution_count": null,
   "id": "c4476dd8",
   "metadata": {},
   "outputs": [],
   "source": [
    "param = {\n",
    "    'donor_id': ['383902', '439443']  # includes all by default\n",
    "}\n",
    "result_get_chronology = post(url + '/profile/get_chronology', json = param)\n",
    "result_get_chronology.json()"
   ]
  }
 ],
 "metadata": {
  "kernelspec": {
   "display_name": "Python 3 (ipykernel)",
   "language": "python",
   "name": "python3"
  },
  "language_info": {
   "codemirror_mode": {
    "name": "ipython",
    "version": 3
   },
   "file_extension": ".py",
   "mimetype": "text/x-python",
   "name": "python",
   "nbconvert_exporter": "python",
   "pygments_lexer": "ipython3",
   "version": "3.11.4"
  }
 },
 "nbformat": 4,
 "nbformat_minor": 5
}
