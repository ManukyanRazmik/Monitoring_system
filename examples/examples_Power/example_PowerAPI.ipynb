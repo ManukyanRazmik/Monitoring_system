{
 "cells": [
  {
   "cell_type": "code",
   "execution_count": 18,
   "id": "9fdd785f",
   "metadata": {},
   "outputs": [],
   "source": [
    "from requests import get, post"
   ]
  },
  {
   "cell_type": "code",
   "execution_count": 10,
   "id": "82965241",
   "metadata": {},
   "outputs": [],
   "source": [
    "url = 'http://0.0.0.0:8004'"
   ]
  },
  {
   "cell_type": "code",
   "execution_count": null,
   "id": "74c8e990",
   "metadata": {},
   "outputs": [],
   "source": [
    "result_update_data = get(url + '/power/update_data')\n",
    "result_update_data.json()"
   ]
  },
  {
   "cell_type": "code",
   "execution_count": null,
   "id": "d9ce6aa5",
   "metadata": {},
   "outputs": [],
   "source": [
    "param = {\n",
    "    'prior_p': [.5, .5],    # expected probability (Jeffreys, ignorance)\n",
    "    'prior_n': [1, 1],      # concentration, sample size equivalent (Jeffreys, ignorance)\n",
    "    'severity': 'sig_hyp',  # severity type (1.2+ by default)\n",
    "    'time_point': None      # use data <= date (all by default)\n",
    "}\n",
    "result_get_posterior = post(url + '/power/get_posterior', json = param)\n",
    "result_get_posterior.json()"
   ]
  },
  {
   "cell_type": "code",
   "execution_count": null,
   "id": "657e4e45",
   "metadata": {},
   "outputs": [],
   "source": [
    "param = {\n",
    "    'samples': 10000,       # number of simulations for each sample size\n",
    "    'step': 1000,           # increase sample size in steps, within [current, 100000 / 2]\n",
    "    'alpha': .05,           # 1st type error rate for NI test, using 2-sided CI (level = 1 - 2 x alpha)\n",
    "    'method': 'wald_cc',    # CI method for NI test\n",
    "    'prior_p': [.5, .5],    # expected probability (Jeffreys, ignorance)\n",
    "    'prior_n': [1, 1],      # concentration, sample size equivalent (Jeffreys, ignorance)\n",
    "    'severity': 'sig_hyp',  # severity type (1.2+ by default)\n",
    "    'time_point': None      # use data <= date (all by default)\n",
    "}\n",
    "result_get_simulation = post(url + '/power/get_simulation', json = param)\n",
    "result_get_simulation.json()"
   ]
  }
 ],
 "metadata": {
  "kernelspec": {
   "display_name": "Python 3 (ipykernel)",
   "language": "python",
   "name": "python3"
  },
  "language_info": {
   "codemirror_mode": {
    "name": "ipython",
    "version": 3
   },
   "file_extension": ".py",
   "mimetype": "text/x-python",
   "name": "python",
   "nbconvert_exporter": "python",
   "pygments_lexer": "ipython3",
   "version": "3.11.4"
  }
 },
 "nbformat": 4,
 "nbformat_minor": 5
}
