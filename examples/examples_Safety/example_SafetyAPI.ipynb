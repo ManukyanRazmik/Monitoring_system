{
 "cells": [
  {
   "cell_type": "code",
   "execution_count": null,
   "id": "9fdd785f",
   "metadata": {},
   "outputs": [],
   "source": [
    "# import sys\n",
    "# sys.path.append('../../')\n",
    "import os\n",
    "os.chdir('../..')\n",
    "from impact2_engine.Safety import SafetyAPI\n",
    "# from impact2_engine import API\n",
    "from requests import get, post"
   ]
  },
  {
   "cell_type": "code",
   "execution_count": null,
   "id": "82965241",
   "metadata": {},
   "outputs": [],
   "source": [
    "url = 'http://0.0.0.0:8004'"
   ]
  },
  {
   "cell_type": "code",
   "execution_count": null,
   "id": "74c8e990",
   "metadata": {},
   "outputs": [
    {
     "data": {
      "text/plain": [
       "{'success': True}"
      ]
     },
     "execution_count": 4,
     "metadata": {},
     "output_type": "execute_result"
    }
   ],
   "source": [
    "result_update_data = get(url + '/safety/update_data')\n",
    "result_update_data.json()"
   ]
  },
  {
   "cell_type": "code",
   "execution_count": null,
   "id": "2aa9360f",
   "metadata": {},
   "outputs": [],
   "source": [
    "result_get_raw_data = get(url + '/safety/get_raw_data')\n",
    "result_get_raw_data.json()"
   ]
  },
  {
   "cell_type": "code",
   "execution_count": null,
   "id": "500889c2",
   "metadata": {},
   "outputs": [],
   "source": [
    "result_get_general_summary = get(url + '/safety/get_general_summary')\n",
    "result_get_general_summary.json()['donation']\n",
    "result_get_general_summary.json()['risk']"
   ]
  },
  {
   "cell_type": "code",
   "execution_count": null,
   "id": "d9ce6aa5",
   "metadata": {},
   "outputs": [],
   "source": [
    "param = {\n",
    "    'severity': 'non_hyp',\n",
    "    'population': 'itt'  # default\n",
    "}\n",
    "result_get_event_summary = post(url + '/safety/get_event_summary', json = param)\n",
    "result_get_event_summary.json()"
   ]
  },
  {
   "cell_type": "code",
   "execution_count": null,
   "id": "247aa906",
   "metadata": {},
   "outputs": [],
   "source": [
    "param = {\n",
    "    'strata': ['gender'],   # must be list[str] of length 1\n",
    "    'severity': 'non_hyp',\n",
    "    'population': 'itt'     # default\n",
    "}\n",
    "result_get_severity_piechart = post(url + '/safety/get_severity_piechart', json = param)\n",
    "result_get_severity_piechart.json()"
   ]
  },
  {
   "cell_type": "code",
   "execution_count": null,
   "id": "c4476dd8",
   "metadata": {},
   "outputs": [],
   "source": [
    "param = {\n",
    "    'strata': ['site', 'group', 'gender'],  # must be list[str],\n",
    "    'severity': 'non_hyp',\n",
    "    'population': 'itt'                     # default\n",
    "}\n",
    "result_get_severity_bargraph = post(url + '/safety/get_severity_bargraph', json = param)\n",
    "result_get_severity_bargraph.json()"
   ]
  },
  {
   "cell_type": "code",
   "execution_count": null,
   "id": "b91a2939",
   "metadata": {},
   "outputs": [],
   "source": [
    "param = {\n",
    "    'severity': 'non_hyp',\n",
    "    'population': 'itt',    # default\n",
    "    'limits': 'both',       # default\n",
    "    'signif_level': .05     # default\n",
    "}\n",
    "result_get_confidence_interval = post(url + '/safety/get_confidence_interval', json = param)\n",
    "result_get_confidence_interval.json()"
   ]
  },
  {
   "cell_type": "code",
   "execution_count": null,
   "id": "46b7664f",
   "metadata": {},
   "outputs": [],
   "source": [
    "param = {\n",
    "    'method': 'clopper_pearson',\n",
    "    'severity': 'non_hyp',\n",
    "    'population': 'itt',    # default\n",
    "    'aggregate': 'w',       # default\n",
    "    'signif_level': .05,    # default\n",
    "    'start': None,          # default\n",
    "    'end': '2020-03-01'\n",
    "}\n",
    "result_get_longitudinal_summary = post(url + '/safety/get_longitudinal_summary', json = param)\n",
    "result_get_longitudinal_summary.json()"
   ]
  }
 ],
 "metadata": {
  "kernelspec": {
   "display_name": "Python 3 (ipykernel)",
   "language": "python",
   "name": "python3"
  },
  "language_info": {
   "codemirror_mode": {
    "name": "ipython",
    "version": 3
   },
   "file_extension": ".py",
   "mimetype": "text/x-python",
   "name": "python",
   "nbconvert_exporter": "python",
   "pygments_lexer": "ipython3",
   "version": "3.11.4"
  }
 },
 "nbformat": 4,
 "nbformat_minor": 5
}
