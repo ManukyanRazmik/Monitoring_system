{
 "cells": [
  {
   "cell_type": "code",
   "execution_count": 17,
   "id": "cf4a8440",
   "metadata": {},
   "outputs": [],
   "source": [
    "from impact2_engine.PlasmaVolume import PlasmaVolume\n",
    "import pandas as pd\n",
    "import yaml"
   ]
  },
  {
   "cell_type": "code",
   "execution_count": 18,
   "id": "6e66a18a",
   "metadata": {},
   "outputs": [],
   "source": [
    "with open('../../impact2_engine/config/PlasmaVolume.yaml', 'r', encoding = 'utf-8') as safety_stream:\n",
    "    plasma_volume_config = yaml.safe_load(safety_stream)"
   ]
  },
  {
   "cell_type": "code",
   "execution_count": 19,
   "id": "4614f53b",
   "metadata": {},
   "outputs": [],
   "source": [
    "plasma_volume_config['data_path'] = '../../impact2_engine/data/' + plasma_volume_config['data_path']"
   ]
  },
  {
   "cell_type": "code",
   "execution_count": 20,
   "id": "0ec9ff9b",
   "metadata": {
    "scrolled": true
   },
   "outputs": [
    {
     "name": "stderr",
     "output_type": "stream",
     "text": [
      "/Volumes/Biometrics/Scripts/IMPACT2 MS Engine/scripts/Robert_Yenokyan/new2/impact2_monitoring/impact2_engine/PlasmaVolume/PlasmaVolume.py:26: SettingWithCopyWarning: \n",
      "A value is trying to be set on a copy of a slice from a DataFrame.\n",
      "Try using .loc[row_indexer,col_indexer] = value instead\n",
      "\n",
      "See the caveats in the documentation: https://pandas.pydata.org/pandas-docs/stable/user_guide/indexing.html#returning-a-view-versus-a-copy\n",
      "  self.data['persona_1'] = self.__calculate_plasma_volume(persona_1=True)\n",
      "/Volumes/Biometrics/Scripts/IMPACT2 MS Engine/scripts/Robert_Yenokyan/new2/impact2_monitoring/impact2_engine/PlasmaVolume/PlasmaVolume.py:27: SettingWithCopyWarning: \n",
      "A value is trying to be set on a copy of a slice from a DataFrame.\n",
      "Try using .loc[row_indexer,col_indexer] = value instead\n",
      "\n",
      "See the caveats in the documentation: https://pandas.pydata.org/pandas-docs/stable/user_guide/indexing.html#returning-a-view-versus-a-copy\n",
      "  self.data['persona_2'] = self.__calculate_plasma_volume(persona_1=False)\n",
      "/Volumes/Biometrics/Scripts/IMPACT2 MS Engine/scripts/Robert_Yenokyan/new2/impact2_monitoring/impact2_engine/PlasmaVolume/PlasmaVolume.py:28: SettingWithCopyWarning: \n",
      "A value is trying to be set on a copy of a slice from a DataFrame.\n",
      "Try using .loc[row_indexer,col_indexer] = value instead\n",
      "\n",
      "See the caveats in the documentation: https://pandas.pydata.org/pandas-docs/stable/user_guide/indexing.html#returning-a-view-versus-a-copy\n",
      "  self.data['overall'] = 'overall'\n"
     ]
    }
   ],
   "source": [
    "pv = PlasmaVolume(**plasma_volume_config)"
   ]
  },
  {
   "cell_type": "code",
   "execution_count": 5,
   "id": "6d42afd4",
   "metadata": {},
   "outputs": [
    {
     "data": {
      "text/html": [
       "<div>\n",
       "<style scoped>\n",
       "    .dataframe tbody tr th:only-of-type {\n",
       "        vertical-align: middle;\n",
       "    }\n",
       "\n",
       "    .dataframe tbody tr th {\n",
       "        vertical-align: top;\n",
       "    }\n",
       "\n",
       "    .dataframe thead th {\n",
       "        text-align: right;\n",
       "    }\n",
       "</style>\n",
       "<table border=\"1\" class=\"dataframe\">\n",
       "  <thead>\n",
       "    <tr style=\"text-align: right;\">\n",
       "      <th></th>\n",
       "      <th>group</th>\n",
       "      <th>average_yield</th>\n",
       "      <th>total_plasma_collected</th>\n",
       "      <th>average_target_colume</th>\n",
       "      <th>average_collected_volume</th>\n",
       "    </tr>\n",
       "  </thead>\n",
       "  <tbody>\n",
       "    <tr>\n",
       "      <th>0</th>\n",
       "      <td>A</td>\n",
       "      <td>0.990954</td>\n",
       "      <td>9011456.0</td>\n",
       "      <td>778.492509</td>\n",
       "      <td>771.462717</td>\n",
       "    </tr>\n",
       "    <tr>\n",
       "      <th>1</th>\n",
       "      <td>B</td>\n",
       "      <td>0.987899</td>\n",
       "      <td>9366383.0</td>\n",
       "      <td>841.603887</td>\n",
       "      <td>831.311174</td>\n",
       "    </tr>\n",
       "  </tbody>\n",
       "</table>\n",
       "</div>"
      ],
      "text/plain": [
       "  group  average_yield  total_plasma_collected  average_target_colume  \\\n",
       "0     A       0.990954               9011456.0             778.492509   \n",
       "1     B       0.987899               9366383.0             841.603887   \n",
       "\n",
       "   average_collected_volume  \n",
       "0                771.462717  \n",
       "1                831.311174  "
      ]
     },
     "execution_count": 5,
     "metadata": {},
     "output_type": "execute_result"
    }
   ],
   "source": [
    "pv.get_plasma_collection_summary()"
   ]
  },
  {
   "cell_type": "code",
   "execution_count": 6,
   "id": "0e3b2a33",
   "metadata": {},
   "outputs": [
    {
     "data": {
      "text/plain": [
       "Index(['col_date', 'site', 'status', 'gender', 'age_cat', 'weight_cat',\n",
       "       'weight', 'group', 'target_vol', 'actual_vol', 'bmi_cat', 'itt', 'mitt',\n",
       "       'pp', 'yield', 'height', 'hematocrit', 'month', 'day', 'week',\n",
       "       'persona_1', 'persona_2', 'overall'],\n",
       "      dtype='object')"
      ]
     },
     "execution_count": 6,
     "metadata": {},
     "output_type": "execute_result"
    }
   ],
   "source": [
    "pv.data.columns"
   ]
  },
  {
   "cell_type": "code",
   "execution_count": 7,
   "id": "14f6aac0",
   "metadata": {},
   "outputs": [],
   "source": [
    "stratify_by_list = ['site', 'status', 'gender', 'age_cat', 'weight_cat', 'bmi_cat']"
   ]
  },
  {
   "cell_type": "code",
   "execution_count": 8,
   "id": "ae2bdc8d",
   "metadata": {},
   "outputs": [],
   "source": [
    "population_list = ['itt', 'mitt', 'pp']"
   ]
  },
  {
   "cell_type": "code",
   "execution_count": 9,
   "id": "eabbc01b",
   "metadata": {},
   "outputs": [
    {
     "data": {
      "text/html": [
       "<div>\n",
       "<style scoped>\n",
       "    .dataframe tbody tr th:only-of-type {\n",
       "        vertical-align: middle;\n",
       "    }\n",
       "\n",
       "    .dataframe tbody tr th {\n",
       "        vertical-align: top;\n",
       "    }\n",
       "\n",
       "    .dataframe thead th {\n",
       "        text-align: right;\n",
       "    }\n",
       "</style>\n",
       "<table border=\"1\" class=\"dataframe\">\n",
       "  <thead>\n",
       "    <tr style=\"text-align: right;\">\n",
       "      <th></th>\n",
       "      <th>age_cat</th>\n",
       "      <th>left</th>\n",
       "      <th>right</th>\n",
       "      <th>mean</th>\n",
       "    </tr>\n",
       "  </thead>\n",
       "  <tbody>\n",
       "    <tr>\n",
       "      <th>0</th>\n",
       "      <td>18-24</td>\n",
       "      <td>-109.420947</td>\n",
       "      <td>1839.269451</td>\n",
       "      <td>-864.924252</td>\n",
       "    </tr>\n",
       "    <tr>\n",
       "      <th>1</th>\n",
       "      <td>25-39</td>\n",
       "      <td>400.135537</td>\n",
       "      <td>1377.372649</td>\n",
       "      <td>-888.754093</td>\n",
       "    </tr>\n",
       "    <tr>\n",
       "      <th>2</th>\n",
       "      <td>40-64</td>\n",
       "      <td>332.106142</td>\n",
       "      <td>1445.069094</td>\n",
       "      <td>-888.587618</td>\n",
       "    </tr>\n",
       "    <tr>\n",
       "      <th>3</th>\n",
       "      <td>65+</td>\n",
       "      <td>-4274.623667</td>\n",
       "      <td>5932.640208</td>\n",
       "      <td>-829.008271</td>\n",
       "    </tr>\n",
       "    <tr>\n",
       "      <th>4</th>\n",
       "      <td>overall</td>\n",
       "      <td>542.791505</td>\n",
       "      <td>1228.320674</td>\n",
       "      <td>-885.556090</td>\n",
       "    </tr>\n",
       "  </tbody>\n",
       "</table>\n",
       "</div>"
      ],
      "text/plain": [
       "   age_cat         left        right        mean\n",
       "0    18-24  -109.420947  1839.269451 -864.924252\n",
       "1    25-39   400.135537  1377.372649 -888.754093\n",
       "2    40-64   332.106142  1445.069094 -888.587618\n",
       "3      65+ -4274.623667  5932.640208 -829.008271\n",
       "4  overall   542.791505  1228.320674 -885.556090"
      ]
     },
     "execution_count": 9,
     "metadata": {},
     "output_type": "execute_result"
    }
   ],
   "source": [
    "pv.get_comparative_gain(population='itt', stratify_by='age_cat')"
   ]
  },
  {
   "cell_type": "code",
   "execution_count": 16,
   "id": "4bff9db3",
   "metadata": {},
   "outputs": [
    {
     "data": {
      "text/html": [
       "<div>\n",
       "<style scoped>\n",
       "    .dataframe tbody tr th:only-of-type {\n",
       "        vertical-align: middle;\n",
       "    }\n",
       "\n",
       "    .dataframe tbody tr th {\n",
       "        vertical-align: top;\n",
       "    }\n",
       "\n",
       "    .dataframe thead th {\n",
       "        text-align: right;\n",
       "    }\n",
       "</style>\n",
       "<table border=\"1\" class=\"dataframe\">\n",
       "  <thead>\n",
       "    <tr style=\"text-align: right;\">\n",
       "      <th></th>\n",
       "      <th>persona_1</th>\n",
       "      <th>persona_2</th>\n",
       "      <th>delta</th>\n",
       "      <th>delta_percentage</th>\n",
       "    </tr>\n",
       "    <tr>\n",
       "      <th>month</th>\n",
       "      <th></th>\n",
       "      <th></th>\n",
       "      <th></th>\n",
       "      <th></th>\n",
       "    </tr>\n",
       "  </thead>\n",
       "  <tbody>\n",
       "    <tr>\n",
       "      <th>2020-01-01</th>\n",
       "      <td>-12286.639531</td>\n",
       "      <td>-13148.937648</td>\n",
       "      <td>-862.298118</td>\n",
       "      <td>7.018177</td>\n",
       "    </tr>\n",
       "    <tr>\n",
       "      <th>2020-02-01</th>\n",
       "      <td>-12571.868098</td>\n",
       "      <td>-13454.118038</td>\n",
       "      <td>-882.249939</td>\n",
       "      <td>7.017652</td>\n",
       "    </tr>\n",
       "    <tr>\n",
       "      <th>2020-03-01</th>\n",
       "      <td>-12735.791046</td>\n",
       "      <td>-13629.573023</td>\n",
       "      <td>-893.781976</td>\n",
       "      <td>7.017876</td>\n",
       "    </tr>\n",
       "  </tbody>\n",
       "</table>\n",
       "</div>"
      ],
      "text/plain": [
       "               persona_1     persona_2       delta  delta_percentage\n",
       "month                                                               \n",
       "2020-01-01 -12286.639531 -13148.937648 -862.298118          7.018177\n",
       "2020-02-01 -12571.868098 -13454.118038 -882.249939          7.017652\n",
       "2020-03-01 -12735.791046 -13629.573023 -893.781976          7.017876"
      ]
     },
     "execution_count": 16,
     "metadata": {},
     "output_type": "execute_result"
    }
   ],
   "source": [
    "pv.get_longitudinal_stat('mitt', 'month')"
   ]
  }
 ],
 "metadata": {
  "kernelspec": {
   "display_name": "py311",
   "language": "python",
   "name": "py311"
  },
  "language_info": {
   "codemirror_mode": {
    "name": "ipython",
    "version": 3
   },
   "file_extension": ".py",
   "mimetype": "text/x-python",
   "name": "python",
   "nbconvert_exporter": "python",
   "pygments_lexer": "ipython3",
   "version": "3.11.3"
  }
 },
 "nbformat": 4,
 "nbformat_minor": 5
}
