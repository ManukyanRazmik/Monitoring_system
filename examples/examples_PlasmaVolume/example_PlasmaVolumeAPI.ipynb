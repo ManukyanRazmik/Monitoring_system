{
 "cells": [
  {
   "cell_type": "code",
   "execution_count": 24,
   "id": "c9560cae",
   "metadata": {},
   "outputs": [],
   "source": [
    "from requests import get, post\n",
    "import pandas as pd"
   ]
  },
  {
   "cell_type": "code",
   "execution_count": 25,
   "id": "8f0d4cbb",
   "metadata": {},
   "outputs": [],
   "source": [
    "url = 'http://0.0.0.0:8004'"
   ]
  },
  {
   "cell_type": "code",
   "execution_count": 26,
   "id": "19ebba05",
   "metadata": {},
   "outputs": [],
   "source": [
    "result_update_data = get(url + '/plasma_volume/update_data')"
   ]
  },
  {
   "cell_type": "code",
   "execution_count": 27,
   "id": "295cf9dd",
   "metadata": {},
   "outputs": [
    {
     "data": {
      "text/plain": [
       "{'success': True}"
      ]
     },
     "execution_count": 27,
     "metadata": {},
     "output_type": "execute_result"
    }
   ],
   "source": [
    "result_update_data.json()"
   ]
  },
  {
   "cell_type": "code",
   "execution_count": 28,
   "id": "d0622df2",
   "metadata": {},
   "outputs": [],
   "source": [
    "result_plasma_collection_summary = get(url + '/plasma_volume/get_plasma_collection_summary')"
   ]
  },
  {
   "cell_type": "code",
   "execution_count": 29,
   "id": "168c1a20",
   "metadata": {},
   "outputs": [
    {
     "data": {
      "text/plain": [
       "[{'group': 'A',\n",
       "  'average_yield': 0.9909543459266623,\n",
       "  'total_plasma_collected': 9011456.0,\n",
       "  'average_target_colume': 778.4925092029792,\n",
       "  'average_collected_volume': 771.4627172331136},\n",
       " {'group': 'B',\n",
       "  'average_yield': 0.9878985914557076,\n",
       "  'total_plasma_collected': 9366383.0,\n",
       "  'average_target_colume': 841.6038874589509,\n",
       "  'average_collected_volume': 831.3111742256146}]"
      ]
     },
     "execution_count": 29,
     "metadata": {},
     "output_type": "execute_result"
    }
   ],
   "source": [
    "result_plasma_collection_summary.json()"
   ]
  },
  {
   "cell_type": "code",
   "execution_count": 30,
   "id": "845588c6",
   "metadata": {},
   "outputs": [],
   "source": [
    "comparative_gain_json = {'population': 'itt', 'stratify_by': 'gender'}"
   ]
  },
  {
   "cell_type": "code",
   "execution_count": 31,
   "id": "59cb47a6",
   "metadata": {},
   "outputs": [],
   "source": [
    "result_comparative_gain = post(url + '/plasma_volume/get_comparative_gain', json=comparative_gain_json)"
   ]
  },
  {
   "cell_type": "code",
   "execution_count": 32,
   "id": "f197c6bd",
   "metadata": {},
   "outputs": [
    {
     "data": {
      "text/plain": [
       "[{'gender': 'female',\n",
       "  'left': 274.0564817507418,\n",
       "  'right': 1480.949359929464,\n",
       "  'mean': -877.5029208401011},\n",
       " {'gender': 'male',\n",
       "  'left': 472.82149592271617,\n",
       "  'right': 1305.7812510989634,\n",
       "  'mean': -889.301373510838},\n",
       " {'gender': 'overall',\n",
       "  'left': 542.7915047140218,\n",
       "  'right': 1228.320674290689,\n",
       "  'mean': -885.5560895023555}]"
      ]
     },
     "execution_count": 32,
     "metadata": {},
     "output_type": "execute_result"
    }
   ],
   "source": [
    "result_comparative_gain.json()"
   ]
  },
  {
   "cell_type": "code",
   "execution_count": 33,
   "id": "8f3ecdc4",
   "metadata": {},
   "outputs": [],
   "source": [
    "longitudinal_stat_json = {'population': 'mitt', 'show_by': 'week'}"
   ]
  },
  {
   "cell_type": "code",
   "execution_count": 34,
   "id": "92a7d5fd",
   "metadata": {},
   "outputs": [],
   "source": [
    "result_longitudinal_stat = post(url + '/plasma_volume/get_longitudinal_stat', json=longitudinal_stat_json)"
   ]
  },
  {
   "cell_type": "code",
   "execution_count": 35,
   "id": "dae2fad8",
   "metadata": {},
   "outputs": [
    {
     "data": {
      "text/plain": [
       "[{'persona_1': -15359.439731933373,\n",
       "  'persona_2': -16437.295151718172,\n",
       "  'delta': -1077.8554197847989,\n",
       "  'delta_percentage': 7.017543859649128},\n",
       " {'persona_1': -11819.448330769403,\n",
       "  'persona_2': -12648.883301349711,\n",
       "  'delta': -829.4349705803088,\n",
       "  'delta_percentage': 7.017543859649122},\n",
       " {'persona_1': -11909.557697107919,\n",
       "  'persona_2': -12745.316131992686,\n",
       "  'delta': -835.7584348847668,\n",
       "  'delta_percentage': 7.017543859649127},\n",
       " {'persona_1': -12402.86324622371,\n",
       "  'persona_2': -13273.339579392004,\n",
       "  'delta': -870.4763331682952,\n",
       "  'delta_percentage': 7.018349842995557},\n",
       " {'persona_1': -12187.924030990416,\n",
       "  'persona_2': -13043.216945445885,\n",
       "  'delta': -855.2929144554691,\n",
       "  'delta_percentage': 7.017543859649134},\n",
       " {'persona_1': -12622.62919350916,\n",
       "  'persona_2': -13508.42773340454,\n",
       "  'delta': -885.7985398953806,\n",
       "  'delta_percentage': 7.017543859649131},\n",
       " {'persona_1': -12893.387246203356,\n",
       "  'persona_2': -13798.186351200084,\n",
       "  'delta': -904.7991049967277,\n",
       "  'delta_percentage': 7.01754385964913},\n",
       " {'persona_1': -12514.259457823498,\n",
       "  'persona_2': -13392.505630512445,\n",
       "  'delta': -878.2461726889469,\n",
       "  'delta_percentage': 7.017963593042627},\n",
       " {'persona_1': -12766.499090868952,\n",
       "  'persona_2': -13662.488022392707,\n",
       "  'delta': -895.9889315237542,\n",
       "  'delta_percentage': 7.018282186418647},\n",
       " {'persona_1': -12890.87190800011,\n",
       "  'persona_2': -13795.551319098886,\n",
       "  'delta': -904.6794110987757,\n",
       "  'delta_percentage': 7.017984644912414},\n",
       " {'persona_1': -12695.005750856664,\n",
       "  'persona_2': -13585.886311047982,\n",
       "  'delta': -890.8805601913173,\n",
       "  'delta_percentage': 7.017567204577283},\n",
       " {'persona_1': -12361.425704231115,\n",
       "  'persona_2': -13228.894174703475,\n",
       "  'delta': -867.4684704723604,\n",
       "  'delta_percentage': 7.017543859649136}]"
      ]
     },
     "execution_count": 35,
     "metadata": {},
     "output_type": "execute_result"
    }
   ],
   "source": [
    "result_longitudinal_stat.json()"
   ]
  },
  {
   "cell_type": "code",
   "execution_count": null,
   "id": "abf5bd2f",
   "metadata": {},
   "outputs": [],
   "source": []
  }
 ],
 "metadata": {
  "kernelspec": {
   "display_name": "Python 3 (ipykernel)",
   "language": "python",
   "name": "python3"
  },
  "language_info": {
   "codemirror_mode": {
    "name": "ipython",
    "version": 3
   },
   "file_extension": ".py",
   "mimetype": "text/x-python",
   "name": "python",
   "nbconvert_exporter": "python",
   "pygments_lexer": "ipython3",
   "version": "3.9.7"
  }
 },
 "nbformat": 4,
 "nbformat_minor": 5
}
